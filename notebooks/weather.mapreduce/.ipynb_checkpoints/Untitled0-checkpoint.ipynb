{
 "metadata": {
  "name": "",
  "signature": "sha256:89b9efd92e349c578bf3ee9dce91dc1649a164056c5bc23e0c987d827004e1e2"
 },
 "nbformat": 3,
 "nbformat_minor": 0,
 "worksheets": [
  {
   "cells": [
    {
     "cell_type": "code",
     "collapsed": false,
     "input": [
      "import pandas as pd\n",
      "import numpy as np\n",
      "import sklearn as sk\n",
      "import sys\n",
      "home_dir='/home/ubuntu/UCSD_BigData'\n",
      "sys.path.append(home_dir+'/utils')\n",
      "from find_waiting_flow import *\n",
      "from AWS_keypair_management import *"
     ],
     "language": "python",
     "metadata": {},
     "outputs": [],
     "prompt_number": 2
    },
    {
     "cell_type": "code",
     "collapsed": false,
     "input": [
      "data_in=open('partition_statistics_6', 'r')\n",
      "\n",
      "eigen_num_6=[0]*731\n",
      "\n",
      "for line in data_in.readlines():\n",
      "    words=line.split(', ')\n",
      "    words[1]=words[1].replace(']','')\n",
      "    eigen_num_6[int(words[1])] = eigen_num_6[int(words[1])] + 1\n",
      "    \n",
      "data_in.close()\n",
      "\n",
      "eigen_cum_6=cumsum(eigen_num_6)\n",
      "eigen_cum_6=eigen_cum_6\n",
      "print(sum(eigen_num_6))\n",
      "\n",
      "plot(eigen_cum_6)"
     ],
     "language": "python",
     "metadata": {},
     "outputs": [
      {
       "output_type": "stream",
       "stream": "stdout",
       "text": [
        "64\n"
       ]
      },
      {
       "metadata": {},
       "output_type": "pyout",
       "prompt_number": 5,
       "text": [
        "[<matplotlib.lines.Line2D at 0x4833250>]"
       ]
      },
      {
       "metadata": {},
       "output_type": "display_data",
       "png": "[encoded data removed]",
       "text": [
        "<matplotlib.figure.Figure at 0x361e550>"
       ]
      }
     ],
     "prompt_number": 5
    },
    {
     "cell_type": "code",
     "collapsed": false,
     "input": [],
     "language": "python",
     "metadata": {},
     "outputs": []
    }
   ],
   "metadata": {}
  }
 ]
}